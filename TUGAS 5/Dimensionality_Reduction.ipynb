{
  "nbformat": 4,
  "nbformat_minor": 0,
  "metadata": {
    "colab": {
      "provenance": []
    },
    "kernelspec": {
      "name": "python3",
      "display_name": "Python 3"
    },
    "language_info": {
      "name": "python"
    },
    "accelerator": "TPU"
  },
  "cells": [
    {
      "cell_type": "markdown",
      "source": [
        "Nama : M Yusril Fauzan H\n",
        "\n",
        "NIM  : 1103204015"
      ],
      "metadata": {
        "id": "MnaxyoJhuIHh"
      }
    },
    {
      "cell_type": "code",
      "metadata": {
        "id": "Ot6aDmFNv93n"
      },
      "source": [
        "from sklearn import datasets\n",
        "from sklearn.model_selection import train_test_split\n",
        "\n",
        "iris = datasets.load_iris()\n",
        "atribut = iris.data\n",
        "label = iris.target\n",
        "\n",
        "# bagi dataset menjadi train set dan test set\n",
        "X_train, X_test, y_train, y_test = train_test_split(\n",
        "    atribut, label, test_size=0.2)"
      ],
      "execution_count": 1,
      "outputs": []
    },
    {
      "cell_type": "code",
      "metadata": {
        "colab": {
          "base_uri": "https://localhost:8080/"
        },
        "id": "wVDWbBAiwJrl",
        "outputId": "b0ffc22d-e1b6-4d6c-fe79-32d12e78edaa"
      },
      "source": [
        "from sklearn import tree\n",
        "\n",
        "decision_tree = tree.DecisionTreeClassifier()\n",
        "model_pertama = decision_tree.fit(X_train, y_train)\n",
        "model_pertama.score(X_test, y_test)"
      ],
      "execution_count": 2,
      "outputs": [
        {
          "output_type": "execute_result",
          "data": {
            "text/plain": [
              "1.0"
            ]
          },
          "metadata": {},
          "execution_count": 2
        }
      ]
    },
    {
      "cell_type": "code",
      "metadata": {
        "colab": {
          "base_uri": "https://localhost:8080/"
        },
        "id": "-NITYKznwZKw",
        "outputId": "ddcc74ad-c98a-4bb9-f7d1-cd311f61607b"
      },
      "source": [
        "from sklearn.decomposition import PCA\n",
        "\n",
        "#membuat objek PCA dengan 4 principal component\n",
        "pca = PCA(n_components=4)\n",
        "\n",
        "#mengaplikasikan PCA pada dataset\n",
        "pca_attributes = pca.fit_transform(X_train)\n",
        "\n",
        "#melihat variance dari setiap atribut\n",
        "pca.explained_variance_ratio_"
      ],
      "execution_count": 3,
      "outputs": [
        {
          "output_type": "execute_result",
          "data": {
            "text/plain": [
              "array([0.92701114, 0.05200838, 0.01585128, 0.0051292 ])"
            ]
          },
          "metadata": {},
          "execution_count": 3
        }
      ]
    },
    {
      "cell_type": "code",
      "metadata": {
        "id": "Hl-cweoGZBk4"
      },
      "source": [
        "#PCA dengan 2 principal component\n",
        "pca = PCA(n_components=2)\n",
        "X_train_pca = pca.fit_transform(X_train)\n",
        "X_test_pca = pca.fit_transform(X_test)"
      ],
      "execution_count": 4,
      "outputs": []
    },
    {
      "cell_type": "code",
      "metadata": {
        "colab": {
          "base_uri": "https://localhost:8080/"
        },
        "id": "Z0_iYlb2ZYEq",
        "outputId": "4e7454da-0c1f-4be3-c99f-00df0a4eaed6"
      },
      "source": [
        "#uji akurasi classifier\n",
        "model2 = decision_tree.fit(X_train_pca, y_train)\n",
        "model2.score(X_test_pca, y_test)"
      ],
      "execution_count": 5,
      "outputs": [
        {
          "output_type": "execute_result",
          "data": {
            "text/plain": [
              "0.3333333333333333"
            ]
          },
          "metadata": {},
          "execution_count": 5
        }
      ]
    },
    {
      "cell_type": "markdown",
      "source": [],
      "metadata": {
        "id": "jvYTI0IWkcSp"
      }
    }
  ]
}