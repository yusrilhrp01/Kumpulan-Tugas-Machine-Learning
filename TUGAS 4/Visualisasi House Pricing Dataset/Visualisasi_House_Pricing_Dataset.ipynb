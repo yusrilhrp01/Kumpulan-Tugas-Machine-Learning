{
  "nbformat": 4,
  "nbformat_minor": 0,
  "metadata": {
    "colab": {
      "provenance": []
    },
    "kernelspec": {
      "name": "python3",
      "display_name": "Python 3"
    },
    "language_info": {
      "name": "python"
    }
  },
  "cells": [
    {
      "cell_type": "code",
      "execution_count": null,
      "metadata": {
        "id": "Uf-Q3NcQZjW2"
      },
      "outputs": [],
      "source": [
        "import pandas as pd\n",
        "import matplotlib.pyplot as plt\n",
        "import seaborn as sns\n",
        "from ipywidgets import interact, IntSlider"
      ]
    },
    {
      "cell_type": "code",
      "source": [
        "# Ganti 'nama_file.csv' dengan nama file CSV Anda\n",
        "file_path = '/content/sample_data/california_housing_train.csv'\n",
        "\n",
        "# Baca file CSV menjadi dataframe\n",
        "df = pd.read_csv(file_path)\n",
        "\n",
        "# Tampilkan lima baris pertama dari dataframe\n",
        "df.head()"
      ],
      "metadata": {
        "id": "ZAaBcVcGbfZ9"
      },
      "execution_count": null,
      "outputs": []
    },
    {
      "cell_type": "code",
      "source": [
        "df.info()"
      ],
      "metadata": {
        "id": "6LXWF-9GbgtT"
      },
      "execution_count": null,
      "outputs": []
    },
    {
      "cell_type": "code",
      "source": [
        "# Tampilkan jumlah nilai unik untuk setiap fitur\n",
        "unique_value_counts = df.nunique()\n",
        "print(unique_value_counts)"
      ],
      "metadata": {
        "id": "EdOrqEvpbiol"
      },
      "execution_count": null,
      "outputs": []
    },
    {
      "cell_type": "code",
      "source": [
        "# Ringkasan statistik dari dataframe\n",
        "summary = df.describe()\n",
        "\n",
        "# Tampilkan ringkasan statistik\n",
        "summary"
      ],
      "metadata": {
        "id": "h16XVuxobj9b"
      },
      "execution_count": null,
      "outputs": []
    },
    {
      "cell_type": "code",
      "source": [
        "# Visualisasi distribusi untuk setiap fitur\n",
        "for column in df.columns:\n",
        "    if df[column].dtype == 'float64':\n",
        "        plt.figure(figsize=(8, 6))\n",
        "        sns.histplot(df[column], kde=True, color='skyblue')\n",
        "        plt.title(f'Distribusi {column}', size=15)\n",
        "        plt.xlabel(column, size=12)\n",
        "        plt.ylabel('Frequency', size=12)\n",
        "        plt.show()"
      ],
      "metadata": {
        "id": "K8uTMTvtblkr"
      },
      "execution_count": null,
      "outputs": []
    },
    {
      "cell_type": "code",
      "source": [
        "# Visualisasi distribusi untuk setiap fitur\n",
        "for column in df.columns:\n",
        "    if df[column].dtype == 'float64':\n",
        "        plt.figure(figsize=(8, 6))\n",
        "        sns.histplot(df[column], kde=True, color='khaki')  # Ubah warna menjadi khaki\n",
        "        plt.title(f'Distribusi {column}', size=15)\n",
        "        plt.xlabel(column, size=12)\n",
        "        plt.ylabel('Frequency', size=12)\n",
        "        plt.show()"
      ],
      "metadata": {
        "id": "o11MNiGsbmw0"
      },
      "execution_count": null,
      "outputs": []
    },
    {
      "cell_type": "code",
      "source": [
        "# Mengatur ukuran dan tata letak subplot\n",
        "fig, axes = plt.subplots(3, 3, figsize=(15, 15))\n",
        "\n",
        "# Visualisasi distribusi untuk setiap fitur dalam tata letak 3x3\n",
        "for i, column in enumerate(df.columns):\n",
        "    if df[column].dtype == 'float64':\n",
        "        sns.histplot(df[column], kde=True, color='khaki', ax=axes[i//3, i%3])\n",
        "        axes[i//3, i%3].set_title(f'Distribusi {column}', size=12)\n",
        "        axes[i//3, i%3].set_xlabel(column, size=10)\n",
        "        axes[i//3, i%3].set_ylabel('Frequency', size=10)\n",
        "\n",
        "# Mengatur tata letak secara rapi\n",
        "plt.tight_layout()\n",
        "plt.show()"
      ],
      "metadata": {
        "id": "XE6OhDxJbo60"
      },
      "execution_count": null,
      "outputs": []
    },
    {
      "cell_type": "code",
      "source": [
        "# Fungsi untuk memplot distribusi dengan bin width interaktif\n",
        "def plot_distribution(feature, bin_width):\n",
        "    plt.figure(figsize=(8, 6))\n",
        "    sns.histplot(df[feature], bins=bin_width, kde=True, color='khaki')\n",
        "    plt.title(f'Distribusi {feature} (Bin Width: {bin_width})', size=15)\n",
        "    plt.xlabel(feature, size=12)\n",
        "    plt.ylabel('Frequency', size=12)\n",
        "    plt.show()\n",
        "\n",
        "# Interaksi untuk memilih fitur dan bin width\n",
        "interact(plot_distribution, feature=df.columns, bin_width=IntSlider(min=1, max=50, step=1, value=10))"
      ],
      "metadata": {
        "id": "XKt0eRGPbqmL"
      },
      "execution_count": null,
      "outputs": []
    },
    {
      "cell_type": "code",
      "source": [
        "# Visualisasi boxplot untuk setiap fitur\n",
        "for column in df.columns:\n",
        "    if df[column].dtype == 'float64':\n",
        "        plt.figure(figsize=(8, 6))\n",
        "        sns.boxplot(y=df[column], color='khaki')\n",
        "        plt.title(f'Boxplot {column}', size=15)\n",
        "        plt.ylabel(column, size=12)\n",
        "        plt.show()"
      ],
      "metadata": {
        "id": "NaLX4aJjbsOM"
      },
      "execution_count": null,
      "outputs": []
    },
    {
      "cell_type": "code",
      "source": [
        "# Mengatur ukuran dan tata letak subplot\n",
        "fig, axes = plt.subplots(3, 3, figsize=(15, 15))\n",
        "\n",
        "# Visualisasi boxplot untuk setiap fitur dalam tata letak 3x3\n",
        "for i, column in enumerate(df.columns):\n",
        "    if df[column].dtype == 'float64':\n",
        "        sns.boxplot(x=df[column], color='purple', orient='h', ax=axes[i//3, i%3])\n",
        "        axes[i//3, i%3].set_title(f'Boxplot {column}', size=12)\n",
        "        axes[i//3, i%3].set_xlabel(column, size=10)\n",
        "        axes[i//3, i%3].set_ylabel('Value', size=10)\n",
        "\n",
        "# Mengatur tata letak secara rapi\n",
        "plt.tight_layout()\n",
        "plt.show()"
      ],
      "metadata": {
        "id": "MM9XhdSgbuId"
      },
      "execution_count": null,
      "outputs": []
    },
    {
      "cell_type": "code",
      "source": [
        "# Membuat scatter plot untuk setiap pasang fitur\n",
        "sns.set(style=\"ticks\")\n",
        "sns.pairplot(df, kind=\"scatter\", diag_kind=\"kde\", palette=\"husl\")\n",
        "plt.show()"
      ],
      "metadata": {
        "id": "4EEdAHR_bwD1"
      },
      "execution_count": null,
      "outputs": []
    },
    {
      "cell_type": "code",
      "source": [
        "# Membuat heatmap untuk setiap fitur\n",
        "plt.figure(figsize=(10, 8))\n",
        "sns.heatmap(df.corr(), annot=True, cmap='coolwarm', fmt='.2f', linewidths=0.5)\n",
        "plt.title('Heatmap Korelasi Fitur', size=15)\n",
        "plt.show()"
      ],
      "metadata": {
        "id": "fe76amJkbx-c"
      },
      "execution_count": null,
      "outputs": []
    },
    {
      "cell_type": "code",
      "source": [
        "# Mengatur tata letak secara rapi\n",
        "plt.figure(figsize=(12, 8))\n",
        "\n",
        "# Membuat violin chart untuk setiap fitur\n",
        "for i, column in enumerate(df.columns):\n",
        "    if df[column].dtype == 'float64':\n",
        "        plt.subplot(3, 3, i+1)\n",
        "        sns.violinplot(y=df[column], color='skyblue')\n",
        "        plt.title(f'Violin Chart {column}', size=12)\n",
        "        plt.ylabel(column, size=10)\n",
        "\n",
        "# Menampilkan plot\n",
        "plt.tight_layout()\n",
        "plt.show()"
      ],
      "metadata": {
        "id": "lcxZvIu3bznL"
      },
      "execution_count": null,
      "outputs": []
    }
  ]
}